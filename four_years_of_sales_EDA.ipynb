{
 "cells": [
  {
   "cell_type": "markdown",
   "metadata": {},
   "source": [
    "# Import Libraries"
   ]
  },
  {
   "cell_type": "code",
   "execution_count": 1,
   "metadata": {},
   "outputs": [],
   "source": [
    "import numpy as np\n",
    "import pandas as pd\n",
    "import matplotlib.pyplot as plt\n",
    "import plotly.express as px\n",
    "import seaborn as sns\n",
    "import plotly.graph_objects as go\n",
    "from plotly.subplots import make_subplots"
   ]
  },
  {
   "cell_type": "markdown",
   "metadata": {},
   "source": [
    "# Import Dataset"
   ]
  },
  {
   "cell_type": "code",
   "execution_count": 2,
   "metadata": {},
   "outputs": [],
   "source": [
    "store_data = pd.read_csv(r'C:\\Users\\roaia\\Downloads\\data\\store_data.csv')\n",
    "master_product = pd.read_csv(r'C:\\Users\\roaia\\Downloads\\data\\master_product.csv')\n",
    "master_customer = pd.read_csv(r'C:\\Users\\roaia\\Downloads\\data\\master_customer.csv')"
   ]
  },
  {
   "cell_type": "code",
   "execution_count": 3,
   "metadata": {},
   "outputs": [
    {
     "data": {
      "text/html": [
       "<div>\n",
       "<style scoped>\n",
       "    .dataframe tbody tr th:only-of-type {\n",
       "        vertical-align: middle;\n",
       "    }\n",
       "\n",
       "    .dataframe tbody tr th {\n",
       "        vertical-align: top;\n",
       "    }\n",
       "\n",
       "    .dataframe thead th {\n",
       "        text-align: right;\n",
       "    }\n",
       "</style>\n",
       "<table border=\"1\" class=\"dataframe\">\n",
       "  <thead>\n",
       "    <tr style=\"text-align: right;\">\n",
       "      <th></th>\n",
       "      <th>Row_ID</th>\n",
       "      <th>Order_ID</th>\n",
       "      <th>Order_Date</th>\n",
       "      <th>Ship_Date</th>\n",
       "      <th>Ship_Mode</th>\n",
       "      <th>Customer_ID</th>\n",
       "      <th>Product_ID</th>\n",
       "      <th>Sales</th>\n",
       "      <th>Discount</th>\n",
       "    </tr>\n",
       "  </thead>\n",
       "  <tbody>\n",
       "    <tr>\n",
       "      <th>0</th>\n",
       "      <td>1</td>\n",
       "      <td>CA-2017-152156</td>\n",
       "      <td>11/8/2017</td>\n",
       "      <td>11/11/2017</td>\n",
       "      <td>Second Class</td>\n",
       "      <td>CG/12520</td>\n",
       "      <td>FUR-BO-10001798</td>\n",
       "      <td>3929400.0</td>\n",
       "      <td>0.02</td>\n",
       "    </tr>\n",
       "    <tr>\n",
       "      <th>1</th>\n",
       "      <td>2</td>\n",
       "      <td>CA-2017-152156</td>\n",
       "      <td>11/8/2017</td>\n",
       "      <td>11/11/2017</td>\n",
       "      <td>Second Class</td>\n",
       "      <td>CG/12520</td>\n",
       "      <td>FUR-CH-10000454</td>\n",
       "      <td>10979100.0</td>\n",
       "      <td>0.01</td>\n",
       "    </tr>\n",
       "  </tbody>\n",
       "</table>\n",
       "</div>"
      ],
      "text/plain": [
       "   Row_ID        Order_ID Order_Date   Ship_Date     Ship_Mode Customer_ID  \\\n",
       "0       1  CA-2017-152156  11/8/2017  11/11/2017  Second Class    CG/12520   \n",
       "1       2  CA-2017-152156  11/8/2017  11/11/2017  Second Class    CG/12520   \n",
       "\n",
       "        Product_ID       Sales  Discount  \n",
       "0  FUR-BO-10001798   3929400.0      0.02  \n",
       "1  FUR-CH-10000454  10979100.0      0.01  "
      ]
     },
     "execution_count": 3,
     "metadata": {},
     "output_type": "execute_result"
    }
   ],
   "source": [
    "store_data.head(2)"
   ]
  },
  {
   "cell_type": "code",
   "execution_count": 4,
   "metadata": {},
   "outputs": [
    {
     "data": {
      "text/html": [
       "<div>\n",
       "<style scoped>\n",
       "    .dataframe tbody tr th:only-of-type {\n",
       "        vertical-align: middle;\n",
       "    }\n",
       "\n",
       "    .dataframe tbody tr th {\n",
       "        vertical-align: top;\n",
       "    }\n",
       "\n",
       "    .dataframe thead th {\n",
       "        text-align: right;\n",
       "    }\n",
       "</style>\n",
       "<table border=\"1\" class=\"dataframe\">\n",
       "  <thead>\n",
       "    <tr style=\"text-align: right;\">\n",
       "      <th></th>\n",
       "      <th>Product_ID</th>\n",
       "      <th>Category</th>\n",
       "      <th>Sub_Category</th>\n",
       "      <th>Product_Name</th>\n",
       "    </tr>\n",
       "  </thead>\n",
       "  <tbody>\n",
       "    <tr>\n",
       "      <th>0</th>\n",
       "      <td>FUR-BO-10001798</td>\n",
       "      <td>Furniture</td>\n",
       "      <td>Bookcases</td>\n",
       "      <td>Bush Somerset Collection Bookcase</td>\n",
       "    </tr>\n",
       "    <tr>\n",
       "      <th>1</th>\n",
       "      <td>FUR-CH-10000454</td>\n",
       "      <td>Furniture</td>\n",
       "      <td>Chairs</td>\n",
       "      <td>Hon Deluxe Fabric Upholstered Stacking Chairs,...</td>\n",
       "    </tr>\n",
       "  </tbody>\n",
       "</table>\n",
       "</div>"
      ],
      "text/plain": [
       "        Product_ID   Category Sub_Category  \\\n",
       "0  FUR-BO-10001798  Furniture    Bookcases   \n",
       "1  FUR-CH-10000454  Furniture       Chairs   \n",
       "\n",
       "                                        Product_Name  \n",
       "0                  Bush Somerset Collection Bookcase  \n",
       "1  Hon Deluxe Fabric Upholstered Stacking Chairs,...  "
      ]
     },
     "execution_count": 4,
     "metadata": {},
     "output_type": "execute_result"
    }
   ],
   "source": [
    "master_product.head(2)"
   ]
  },
  {
   "cell_type": "code",
   "execution_count": 5,
   "metadata": {},
   "outputs": [
    {
     "data": {
      "text/html": [
       "<div>\n",
       "<style scoped>\n",
       "    .dataframe tbody tr th:only-of-type {\n",
       "        vertical-align: middle;\n",
       "    }\n",
       "\n",
       "    .dataframe tbody tr th {\n",
       "        vertical-align: top;\n",
       "    }\n",
       "\n",
       "    .dataframe thead th {\n",
       "        text-align: right;\n",
       "    }\n",
       "</style>\n",
       "<table border=\"1\" class=\"dataframe\">\n",
       "  <thead>\n",
       "    <tr style=\"text-align: right;\">\n",
       "      <th></th>\n",
       "      <th>Customer_ID</th>\n",
       "      <th>Customer_Name</th>\n",
       "      <th>Segment</th>\n",
       "      <th>Country</th>\n",
       "      <th>City</th>\n",
       "      <th>State</th>\n",
       "      <th>Postal_Code</th>\n",
       "      <th>Region</th>\n",
       "      <th>Age</th>\n",
       "    </tr>\n",
       "  </thead>\n",
       "  <tbody>\n",
       "    <tr>\n",
       "      <th>0</th>\n",
       "      <td>CG/12520</td>\n",
       "      <td>Claire Gute</td>\n",
       "      <td>Consumer</td>\n",
       "      <td>United States</td>\n",
       "      <td>Henderson</td>\n",
       "      <td>Kentucky</td>\n",
       "      <td>42420</td>\n",
       "      <td>South</td>\n",
       "      <td>42</td>\n",
       "    </tr>\n",
       "    <tr>\n",
       "      <th>1</th>\n",
       "      <td>DV/13045</td>\n",
       "      <td>Darrin Van Huff</td>\n",
       "      <td>Corporate</td>\n",
       "      <td>United States</td>\n",
       "      <td>Los Angeles</td>\n",
       "      <td>California</td>\n",
       "      <td>90036</td>\n",
       "      <td>West</td>\n",
       "      <td>47</td>\n",
       "    </tr>\n",
       "  </tbody>\n",
       "</table>\n",
       "</div>"
      ],
      "text/plain": [
       "  Customer_ID    Customer_Name    Segment        Country         City  \\\n",
       "0    CG/12520      Claire Gute   Consumer  United States    Henderson   \n",
       "1    DV/13045  Darrin Van Huff  Corporate  United States  Los Angeles   \n",
       "\n",
       "        State  Postal_Code Region  Age  \n",
       "0    Kentucky        42420  South   42  \n",
       "1  California        90036   West   47  "
      ]
     },
     "execution_count": 5,
     "metadata": {},
     "output_type": "execute_result"
    }
   ],
   "source": [
    "master_customer.head(2)"
   ]
  },
  {
   "cell_type": "markdown",
   "metadata": {},
   "source": [
    "# Prepare and Clean"
   ]
  },
  {
   "cell_type": "code",
   "execution_count": 6,
   "metadata": {},
   "outputs": [
    {
     "data": {
      "text/html": [
       "<div>\n",
       "<style scoped>\n",
       "    .dataframe tbody tr th:only-of-type {\n",
       "        vertical-align: middle;\n",
       "    }\n",
       "\n",
       "    .dataframe tbody tr th {\n",
       "        vertical-align: top;\n",
       "    }\n",
       "\n",
       "    .dataframe thead th {\n",
       "        text-align: right;\n",
       "    }\n",
       "</style>\n",
       "<table border=\"1\" class=\"dataframe\">\n",
       "  <thead>\n",
       "    <tr style=\"text-align: right;\">\n",
       "      <th></th>\n",
       "      <th>Row_ID</th>\n",
       "      <th>Order_ID</th>\n",
       "      <th>Order_Date</th>\n",
       "      <th>Ship_Date</th>\n",
       "      <th>Ship_Mode</th>\n",
       "      <th>Customer_ID</th>\n",
       "      <th>Product_ID</th>\n",
       "      <th>Sales</th>\n",
       "      <th>Discount</th>\n",
       "      <th>Category</th>\n",
       "      <th>Sub_Category</th>\n",
       "      <th>Product_Name</th>\n",
       "    </tr>\n",
       "  </thead>\n",
       "  <tbody>\n",
       "    <tr>\n",
       "      <th>0</th>\n",
       "      <td>1</td>\n",
       "      <td>CA-2017-152156</td>\n",
       "      <td>11/8/2017</td>\n",
       "      <td>11/11/2017</td>\n",
       "      <td>Second Class</td>\n",
       "      <td>CG/12520</td>\n",
       "      <td>FUR-BO-10001798</td>\n",
       "      <td>3929400.0</td>\n",
       "      <td>0.02</td>\n",
       "      <td>Furniture</td>\n",
       "      <td>Bookcases</td>\n",
       "      <td>Bush Somerset Collection Bookcase</td>\n",
       "    </tr>\n",
       "    <tr>\n",
       "      <th>1</th>\n",
       "      <td>5400</td>\n",
       "      <td>CA-2017-117681</td>\n",
       "      <td>4/9/2017</td>\n",
       "      <td>4/14/2017</td>\n",
       "      <td>Standard Class</td>\n",
       "      <td>HF/14995</td>\n",
       "      <td>FUR-BO-10001798</td>\n",
       "      <td>8349975.0</td>\n",
       "      <td>0.02</td>\n",
       "      <td>Furniture</td>\n",
       "      <td>Bookcases</td>\n",
       "      <td>Bush Somerset Collection Bookcase</td>\n",
       "    </tr>\n",
       "  </tbody>\n",
       "</table>\n",
       "</div>"
      ],
      "text/plain": [
       "   Row_ID        Order_ID Order_Date   Ship_Date       Ship_Mode Customer_ID  \\\n",
       "0       1  CA-2017-152156  11/8/2017  11/11/2017    Second Class    CG/12520   \n",
       "1    5400  CA-2017-117681   4/9/2017   4/14/2017  Standard Class    HF/14995   \n",
       "\n",
       "        Product_ID      Sales  Discount   Category Sub_Category  \\\n",
       "0  FUR-BO-10001798  3929400.0      0.02  Furniture    Bookcases   \n",
       "1  FUR-BO-10001798  8349975.0      0.02  Furniture    Bookcases   \n",
       "\n",
       "                        Product_Name  \n",
       "0  Bush Somerset Collection Bookcase  \n",
       "1  Bush Somerset Collection Bookcase  "
      ]
     },
     "execution_count": 6,
     "metadata": {},
     "output_type": "execute_result"
    }
   ],
   "source": [
    "# merge store_data df & master_product df on 'Product_ID' column and save result in new df store_data.\n",
    "store_data = pd.merge(left=store_data, right=master_product, how='inner', on='Product_ID')\n",
    "store_data.head(2)"
   ]
  },
  {
   "cell_type": "code",
   "execution_count": 7,
   "metadata": {},
   "outputs": [
    {
     "data": {
      "text/html": [
       "<div>\n",
       "<style scoped>\n",
       "    .dataframe tbody tr th:only-of-type {\n",
       "        vertical-align: middle;\n",
       "    }\n",
       "\n",
       "    .dataframe tbody tr th {\n",
       "        vertical-align: top;\n",
       "    }\n",
       "\n",
       "    .dataframe thead th {\n",
       "        text-align: right;\n",
       "    }\n",
       "</style>\n",
       "<table border=\"1\" class=\"dataframe\">\n",
       "  <thead>\n",
       "    <tr style=\"text-align: right;\">\n",
       "      <th></th>\n",
       "      <th>Row_ID</th>\n",
       "      <th>Order_ID</th>\n",
       "      <th>Order_Date</th>\n",
       "      <th>Ship_Date</th>\n",
       "      <th>Ship_Mode</th>\n",
       "      <th>Customer_ID</th>\n",
       "      <th>Product_ID</th>\n",
       "      <th>Sales</th>\n",
       "      <th>Discount</th>\n",
       "      <th>Category</th>\n",
       "      <th>Sub_Category</th>\n",
       "      <th>Product_Name</th>\n",
       "      <th>Customer_Name</th>\n",
       "      <th>Segment</th>\n",
       "      <th>Country</th>\n",
       "      <th>City</th>\n",
       "      <th>State</th>\n",
       "      <th>Postal_Code</th>\n",
       "      <th>Region</th>\n",
       "      <th>Age</th>\n",
       "    </tr>\n",
       "  </thead>\n",
       "  <tbody>\n",
       "    <tr>\n",
       "      <th>0</th>\n",
       "      <td>1</td>\n",
       "      <td>CA-2017-152156</td>\n",
       "      <td>11/8/2017</td>\n",
       "      <td>11/11/2017</td>\n",
       "      <td>Second Class</td>\n",
       "      <td>CG/12520</td>\n",
       "      <td>FUR-BO-10001798</td>\n",
       "      <td>3929400.0</td>\n",
       "      <td>0.02</td>\n",
       "      <td>Furniture</td>\n",
       "      <td>Bookcases</td>\n",
       "      <td>Bush Somerset Collection Bookcase</td>\n",
       "      <td>Claire Gute</td>\n",
       "      <td>Consumer</td>\n",
       "      <td>United States</td>\n",
       "      <td>Henderson</td>\n",
       "      <td>Kentucky</td>\n",
       "      <td>42420</td>\n",
       "      <td>South</td>\n",
       "      <td>42</td>\n",
       "    </tr>\n",
       "    <tr>\n",
       "      <th>1</th>\n",
       "      <td>2</td>\n",
       "      <td>CA-2017-152156</td>\n",
       "      <td>11/8/2017</td>\n",
       "      <td>11/11/2017</td>\n",
       "      <td>Second Class</td>\n",
       "      <td>CG/12520</td>\n",
       "      <td>FUR-CH-10000454</td>\n",
       "      <td>10979100.0</td>\n",
       "      <td>0.01</td>\n",
       "      <td>Furniture</td>\n",
       "      <td>Chairs</td>\n",
       "      <td>Hon Deluxe Fabric Upholstered Stacking Chairs,...</td>\n",
       "      <td>Claire Gute</td>\n",
       "      <td>Consumer</td>\n",
       "      <td>United States</td>\n",
       "      <td>Henderson</td>\n",
       "      <td>Kentucky</td>\n",
       "      <td>42420</td>\n",
       "      <td>South</td>\n",
       "      <td>42</td>\n",
       "    </tr>\n",
       "  </tbody>\n",
       "</table>\n",
       "</div>"
      ],
      "text/plain": [
       "   Row_ID        Order_ID Order_Date   Ship_Date     Ship_Mode Customer_ID  \\\n",
       "0       1  CA-2017-152156  11/8/2017  11/11/2017  Second Class    CG/12520   \n",
       "1       2  CA-2017-152156  11/8/2017  11/11/2017  Second Class    CG/12520   \n",
       "\n",
       "        Product_ID       Sales  Discount   Category Sub_Category  \\\n",
       "0  FUR-BO-10001798   3929400.0      0.02  Furniture    Bookcases   \n",
       "1  FUR-CH-10000454  10979100.0      0.01  Furniture       Chairs   \n",
       "\n",
       "                                        Product_Name Customer_Name   Segment  \\\n",
       "0                  Bush Somerset Collection Bookcase   Claire Gute  Consumer   \n",
       "1  Hon Deluxe Fabric Upholstered Stacking Chairs,...   Claire Gute  Consumer   \n",
       "\n",
       "         Country       City     State  Postal_Code Region  Age  \n",
       "0  United States  Henderson  Kentucky        42420  South   42  \n",
       "1  United States  Henderson  Kentucky        42420  South   42  "
      ]
     },
     "execution_count": 7,
     "metadata": {},
     "output_type": "execute_result"
    }
   ],
   "source": [
    "# merge store_data df & master_customer df on 'Customer_ID' column and save result in new df store_data.\n",
    "store_data = pd.merge(left=store_data, right=master_customer, how='inner', on='Customer_ID')\n",
    "store_data.head(2)"
   ]
  },
  {
   "cell_type": "code",
   "execution_count": 8,
   "metadata": {},
   "outputs": [
    {
     "data": {
      "text/html": [
       "<div>\n",
       "<style scoped>\n",
       "    .dataframe tbody tr th:only-of-type {\n",
       "        vertical-align: middle;\n",
       "    }\n",
       "\n",
       "    .dataframe tbody tr th {\n",
       "        vertical-align: top;\n",
       "    }\n",
       "\n",
       "    .dataframe thead th {\n",
       "        text-align: right;\n",
       "    }\n",
       "</style>\n",
       "<table border=\"1\" class=\"dataframe\">\n",
       "  <thead>\n",
       "    <tr style=\"text-align: right;\">\n",
       "      <th></th>\n",
       "      <th>Order_ID</th>\n",
       "      <th>Order_Date</th>\n",
       "      <th>Ship_Date</th>\n",
       "      <th>Ship_Mode</th>\n",
       "      <th>Customer_ID</th>\n",
       "      <th>Product_ID</th>\n",
       "      <th>Sales</th>\n",
       "      <th>Discount</th>\n",
       "      <th>Category</th>\n",
       "      <th>Sub_Category</th>\n",
       "      <th>Product_Name</th>\n",
       "      <th>Customer_Name</th>\n",
       "      <th>Segment</th>\n",
       "      <th>Country</th>\n",
       "      <th>City</th>\n",
       "      <th>State</th>\n",
       "      <th>Postal_Code</th>\n",
       "      <th>Region</th>\n",
       "      <th>Age</th>\n",
       "    </tr>\n",
       "  </thead>\n",
       "  <tbody>\n",
       "    <tr>\n",
       "      <th>0</th>\n",
       "      <td>CA-2017-152156</td>\n",
       "      <td>11/8/2017</td>\n",
       "      <td>11/11/2017</td>\n",
       "      <td>Second Class</td>\n",
       "      <td>CG/12520</td>\n",
       "      <td>FUR-BO-10001798</td>\n",
       "      <td>3929400.0</td>\n",
       "      <td>0.02</td>\n",
       "      <td>Furniture</td>\n",
       "      <td>Bookcases</td>\n",
       "      <td>Bush Somerset Collection Bookcase</td>\n",
       "      <td>Claire Gute</td>\n",
       "      <td>Consumer</td>\n",
       "      <td>United States</td>\n",
       "      <td>Henderson</td>\n",
       "      <td>Kentucky</td>\n",
       "      <td>42420</td>\n",
       "      <td>South</td>\n",
       "      <td>42</td>\n",
       "    </tr>\n",
       "    <tr>\n",
       "      <th>1</th>\n",
       "      <td>CA-2017-152156</td>\n",
       "      <td>11/8/2017</td>\n",
       "      <td>11/11/2017</td>\n",
       "      <td>Second Class</td>\n",
       "      <td>CG/12520</td>\n",
       "      <td>FUR-CH-10000454</td>\n",
       "      <td>10979100.0</td>\n",
       "      <td>0.01</td>\n",
       "      <td>Furniture</td>\n",
       "      <td>Chairs</td>\n",
       "      <td>Hon Deluxe Fabric Upholstered Stacking Chairs,...</td>\n",
       "      <td>Claire Gute</td>\n",
       "      <td>Consumer</td>\n",
       "      <td>United States</td>\n",
       "      <td>Henderson</td>\n",
       "      <td>Kentucky</td>\n",
       "      <td>42420</td>\n",
       "      <td>South</td>\n",
       "      <td>42</td>\n",
       "    </tr>\n",
       "  </tbody>\n",
       "</table>\n",
       "</div>"
      ],
      "text/plain": [
       "         Order_ID Order_Date   Ship_Date     Ship_Mode Customer_ID  \\\n",
       "0  CA-2017-152156  11/8/2017  11/11/2017  Second Class    CG/12520   \n",
       "1  CA-2017-152156  11/8/2017  11/11/2017  Second Class    CG/12520   \n",
       "\n",
       "        Product_ID       Sales  Discount   Category Sub_Category  \\\n",
       "0  FUR-BO-10001798   3929400.0      0.02  Furniture    Bookcases   \n",
       "1  FUR-CH-10000454  10979100.0      0.01  Furniture       Chairs   \n",
       "\n",
       "                                        Product_Name Customer_Name   Segment  \\\n",
       "0                  Bush Somerset Collection Bookcase   Claire Gute  Consumer   \n",
       "1  Hon Deluxe Fabric Upholstered Stacking Chairs,...   Claire Gute  Consumer   \n",
       "\n",
       "         Country       City     State  Postal_Code Region  Age  \n",
       "0  United States  Henderson  Kentucky        42420  South   42  \n",
       "1  United States  Henderson  Kentucky        42420  South   42  "
      ]
     },
     "execution_count": 8,
     "metadata": {},
     "output_type": "execute_result"
    }
   ],
   "source": [
    "# drop 'Row_ID' column\n",
    "store_data.drop(columns='Row_ID', axis=1, inplace=True)\n",
    "store_data.head(2)"
   ]
  },
  {
   "cell_type": "code",
   "execution_count": 9,
   "metadata": {},
   "outputs": [
    {
     "data": {
      "text/plain": [
       "Order_ID          object\n",
       "Order_Date        object\n",
       "Ship_Date         object\n",
       "Ship_Mode         object\n",
       "Customer_ID       object\n",
       "Product_ID        object\n",
       "Sales            float64\n",
       "Discount         float64\n",
       "Category          object\n",
       "Sub_Category      object\n",
       "Product_Name      object\n",
       "Customer_Name     object\n",
       "Segment           object\n",
       "Country           object\n",
       "City              object\n",
       "State             object\n",
       "Postal_Code        int64\n",
       "Region            object\n",
       "Age                int64\n",
       "dtype: object"
      ]
     },
     "execution_count": 9,
     "metadata": {},
     "output_type": "execute_result"
    }
   ],
   "source": [
    "# check data type\n",
    "store_data.dtypes"
   ]
  },
  {
   "cell_type": "code",
   "execution_count": 11,
   "metadata": {},
   "outputs": [
    {
     "data": {
      "text/plain": [
       "0      2017-11-08\n",
       "1      2017-11-08\n",
       "2      2018-01-26\n",
       "3      2016-10-15\n",
       "4      2016-10-15\n",
       "          ...    \n",
       "9795   2017-01-22\n",
       "9796   2017-01-22\n",
       "9797   2016-09-24\n",
       "9798   2017-08-16\n",
       "9799   2017-12-30\n",
       "Name: Order_Date, Length: 9800, dtype: datetime64[ns]"
      ]
     },
     "execution_count": 11,
     "metadata": {},
     "output_type": "execute_result"
    }
   ],
   "source": [
    "# convert 'Order_Date' to datetime.\n",
    "store_data['Order_Date'] = pd.to_datetime(store_data['Order_Date'])\n",
    "store_data['Order_Date']"
   ]
  },
  {
   "cell_type": "code",
   "execution_count": 13,
   "metadata": {},
   "outputs": [
    {
     "data": {
      "text/plain": [
       "0      2017-11-11\n",
       "1      2017-11-11\n",
       "2      2018-01-27\n",
       "3      2016-10-15\n",
       "4      2016-10-15\n",
       "          ...    \n",
       "9795   2017-01-28\n",
       "9796   2017-01-28\n",
       "9797   2016-09-26\n",
       "9798   2017-08-19\n",
       "9799   2018-01-02\n",
       "Name: Ship_Date, Length: 9800, dtype: datetime64[ns]"
      ]
     },
     "execution_count": 13,
     "metadata": {},
     "output_type": "execute_result"
    }
   ],
   "source": [
    "# convert 'Ship_Date' to datetime.\n",
    "store_data['Ship_Date'] = pd.to_datetime(store_data['Ship_Date'])\n",
    "store_data['Ship_Date']"
   ]
  },
  {
   "cell_type": "code",
   "execution_count": 14,
   "metadata": {},
   "outputs": [
    {
     "data": {
      "text/plain": [
       "Order_ID          0\n",
       "Order_Date        0\n",
       "Ship_Date         0\n",
       "Ship_Mode         0\n",
       "Customer_ID       0\n",
       "Product_ID        0\n",
       "Sales            30\n",
       "Discount          0\n",
       "Category          0\n",
       "Sub_Category      0\n",
       "Product_Name      0\n",
       "Customer_Name     0\n",
       "Segment           0\n",
       "Country           0\n",
       "City              0\n",
       "State             0\n",
       "Postal_Code       0\n",
       "Region            0\n",
       "Age               0\n",
       "dtype: int64"
      ]
     },
     "execution_count": 14,
     "metadata": {},
     "output_type": "execute_result"
    }
   ],
   "source": [
    "# check null values.\n",
    "store_data.isnull().sum()"
   ]
  },
  {
   "cell_type": "code",
   "execution_count": 15,
   "metadata": {},
   "outputs": [
    {
     "data": {
      "text/plain": [
       "0"
      ]
     },
     "execution_count": 15,
     "metadata": {},
     "output_type": "execute_result"
    }
   ],
   "source": [
    "# check duplicated values.\n",
    "store_data.duplicated().sum()"
   ]
  },
  {
   "cell_type": "code",
   "execution_count": 21,
   "metadata": {},
   "outputs": [],
   "source": [
    "# drop null values in 'Sales' column.\n",
    "store_data = store_data[store_data['Sales'].isnull()==False]"
   ]
  },
  {
   "cell_type": "code",
   "execution_count": 22,
   "metadata": {},
   "outputs": [
    {
     "name": "stdout",
     "output_type": "stream",
     "text": [
      "<class 'pandas.core.frame.DataFrame'>\n",
      "Int64Index: 9770 entries, 0 to 9799\n",
      "Data columns (total 19 columns):\n",
      " #   Column         Non-Null Count  Dtype         \n",
      "---  ------         --------------  -----         \n",
      " 0   Order_ID       9770 non-null   object        \n",
      " 1   Order_Date     9770 non-null   datetime64[ns]\n",
      " 2   Ship_Date      9770 non-null   datetime64[ns]\n",
      " 3   Ship_Mode      9770 non-null   object        \n",
      " 4   Customer_ID    9770 non-null   object        \n",
      " 5   Product_ID     9770 non-null   object        \n",
      " 6   Sales          9770 non-null   float64       \n",
      " 7   Discount       9770 non-null   float64       \n",
      " 8   Category       9770 non-null   object        \n",
      " 9   Sub_Category   9770 non-null   object        \n",
      " 10  Product_Name   9770 non-null   object        \n",
      " 11  Customer_Name  9770 non-null   object        \n",
      " 12  Segment        9770 non-null   object        \n",
      " 13  Country        9770 non-null   object        \n",
      " 14  City           9770 non-null   object        \n",
      " 15  State          9770 non-null   object        \n",
      " 16  Postal_Code    9770 non-null   int64         \n",
      " 17  Region         9770 non-null   object        \n",
      " 18  Age            9770 non-null   int64         \n",
      "dtypes: datetime64[ns](2), float64(2), int64(2), object(13)\n",
      "memory usage: 1.5+ MB\n"
     ]
    }
   ],
   "source": [
    "# final check.\n",
    "store_data.info()"
   ]
  },
  {
   "cell_type": "markdown",
   "metadata": {},
   "source": [
    "# Analysis"
   ]
  },
  {
   "cell_type": "code",
   "execution_count": 37,
   "metadata": {},
   "outputs": [
    {
     "data": {
      "text/html": [
       "<div>\n",
       "<style scoped>\n",
       "    .dataframe tbody tr th:only-of-type {\n",
       "        vertical-align: middle;\n",
       "    }\n",
       "\n",
       "    .dataframe tbody tr th {\n",
       "        vertical-align: top;\n",
       "    }\n",
       "\n",
       "    .dataframe thead th {\n",
       "        text-align: right;\n",
       "    }\n",
       "</style>\n",
       "<table border=\"1\" class=\"dataframe\">\n",
       "  <thead>\n",
       "    <tr style=\"text-align: right;\">\n",
       "      <th></th>\n",
       "      <th>Order_ID</th>\n",
       "      <th>Order_Date</th>\n",
       "      <th>Ship_Date</th>\n",
       "      <th>Ship_Mode</th>\n",
       "      <th>Customer_ID</th>\n",
       "      <th>Product_ID</th>\n",
       "      <th>Sales</th>\n",
       "      <th>Discount</th>\n",
       "      <th>Category</th>\n",
       "      <th>Sub_Category</th>\n",
       "      <th>Product_Name</th>\n",
       "      <th>Customer_Name</th>\n",
       "      <th>Segment</th>\n",
       "      <th>Country</th>\n",
       "      <th>City</th>\n",
       "      <th>State</th>\n",
       "      <th>Postal_Code</th>\n",
       "      <th>Region</th>\n",
       "      <th>Age</th>\n",
       "    </tr>\n",
       "  </thead>\n",
       "  <tbody>\n",
       "    <tr>\n",
       "      <th>0</th>\n",
       "      <td>CA-2017-152156</td>\n",
       "      <td>2017-11-08</td>\n",
       "      <td>2017-11-11</td>\n",
       "      <td>Second Class</td>\n",
       "      <td>CG/12520</td>\n",
       "      <td>FUR-BO-10001798</td>\n",
       "      <td>3929400.0</td>\n",
       "      <td>0.02</td>\n",
       "      <td>Furniture</td>\n",
       "      <td>Bookcases</td>\n",
       "      <td>Bush Somerset Collection Bookcase</td>\n",
       "      <td>Claire Gute</td>\n",
       "      <td>Consumer</td>\n",
       "      <td>United States</td>\n",
       "      <td>Henderson</td>\n",
       "      <td>Kentucky</td>\n",
       "      <td>42420</td>\n",
       "      <td>South</td>\n",
       "      <td>42</td>\n",
       "    </tr>\n",
       "    <tr>\n",
       "      <th>1</th>\n",
       "      <td>CA-2017-152156</td>\n",
       "      <td>2017-11-08</td>\n",
       "      <td>2017-11-11</td>\n",
       "      <td>Second Class</td>\n",
       "      <td>CG/12520</td>\n",
       "      <td>FUR-CH-10000454</td>\n",
       "      <td>10979100.0</td>\n",
       "      <td>0.01</td>\n",
       "      <td>Furniture</td>\n",
       "      <td>Chairs</td>\n",
       "      <td>Hon Deluxe Fabric Upholstered Stacking Chairs,...</td>\n",
       "      <td>Claire Gute</td>\n",
       "      <td>Consumer</td>\n",
       "      <td>United States</td>\n",
       "      <td>Henderson</td>\n",
       "      <td>Kentucky</td>\n",
       "      <td>42420</td>\n",
       "      <td>South</td>\n",
       "      <td>42</td>\n",
       "    </tr>\n",
       "  </tbody>\n",
       "</table>\n",
       "</div>"
      ],
      "text/plain": [
       "         Order_ID Order_Date  Ship_Date     Ship_Mode Customer_ID  \\\n",
       "0  CA-2017-152156 2017-11-08 2017-11-11  Second Class    CG/12520   \n",
       "1  CA-2017-152156 2017-11-08 2017-11-11  Second Class    CG/12520   \n",
       "\n",
       "        Product_ID       Sales  Discount   Category Sub_Category  \\\n",
       "0  FUR-BO-10001798   3929400.0      0.02  Furniture    Bookcases   \n",
       "1  FUR-CH-10000454  10979100.0      0.01  Furniture       Chairs   \n",
       "\n",
       "                                        Product_Name Customer_Name   Segment  \\\n",
       "0                  Bush Somerset Collection Bookcase   Claire Gute  Consumer   \n",
       "1  Hon Deluxe Fabric Upholstered Stacking Chairs,...   Claire Gute  Consumer   \n",
       "\n",
       "         Country       City     State  Postal_Code Region  Age  \n",
       "0  United States  Henderson  Kentucky        42420  South   42  \n",
       "1  United States  Henderson  Kentucky        42420  South   42  "
      ]
     },
     "execution_count": 37,
     "metadata": {},
     "output_type": "execute_result"
    }
   ],
   "source": [
    "store_data.head(2)"
   ]
  },
  {
   "cell_type": "code",
   "execution_count": 23,
   "metadata": {},
   "outputs": [
    {
     "data": {
      "application/vnd.plotly.v1+json": {
       "config": {
        "plotlyServerURL": "https://plot.ly"
       },
       "data": [
        {
         "coloraxis": "coloraxis",
         "hovertemplate": "x: %{x}<br>y: %{y}<br>color: %{z}<extra></extra>",
         "name": "0",
         "texttemplate": "%{z}",
         "type": "heatmap",
         "x": [
          "Sales",
          "Discount",
          "Postal_Code",
          "Age"
         ],
         "xaxis": "x",
         "y": [
          "Sales",
          "Discount",
          "Postal_Code",
          "Age"
         ],
         "yaxis": "y",
         "z": [
          [
           1,
           0.006484465411469137,
           -0.0048310272289517975,
           0.004447605471301961
          ],
          [
           0.006484465411469137,
           1,
           -0.001540967244156833,
           0.005483349421675928
          ],
          [
           -0.0048310272289517975,
           -0.001540967244156833,
           1,
           -0.042930175358862954
          ],
          [
           0.004447605471301961,
           0.005483349421675928,
           -0.042930175358862954,
           1
          ]
         ]
        }
       ],
       "layout": {
        "coloraxis": {
         "colorscale": [
          [
           0,
           "rgb(247,251,255)"
          ],
          [
           0.125,
           "rgb(222,235,247)"
          ],
          [
           0.25,
           "rgb(198,219,239)"
          ],
          [
           0.375,
           "rgb(158,202,225)"
          ],
          [
           0.5,
           "rgb(107,174,214)"
          ],
          [
           0.625,
           "rgb(66,146,198)"
          ],
          [
           0.75,
           "rgb(33,113,181)"
          ],
          [
           0.875,
           "rgb(8,81,156)"
          ],
          [
           1,
           "rgb(8,48,107)"
          ]
         ]
        },
        "margin": {
         "t": 60
        },
        "template": {
         "data": {
          "bar": [
           {
            "error_x": {
             "color": "#2a3f5f"
            },
            "error_y": {
             "color": "#2a3f5f"
            },
            "marker": {
             "line": {
              "color": "#E5ECF6",
              "width": 0.5
             },
             "pattern": {
              "fillmode": "overlay",
              "size": 10,
              "solidity": 0.2
             }
            },
            "type": "bar"
           }
          ],
          "barpolar": [
           {
            "marker": {
             "line": {
              "color": "#E5ECF6",
              "width": 0.5
             },
             "pattern": {
              "fillmode": "overlay",
              "size": 10,
              "solidity": 0.2
             }
            },
            "type": "barpolar"
           }
          ],
          "carpet": [
           {
            "aaxis": {
             "endlinecolor": "#2a3f5f",
             "gridcolor": "white",
             "linecolor": "white",
             "minorgridcolor": "white",
             "startlinecolor": "#2a3f5f"
            },
            "baxis": {
             "endlinecolor": "#2a3f5f",
             "gridcolor": "white",
             "linecolor": "white",
             "minorgridcolor": "white",
             "startlinecolor": "#2a3f5f"
            },
            "type": "carpet"
           }
          ],
          "choropleth": [
           {
            "colorbar": {
             "outlinewidth": 0,
             "ticks": ""
            },
            "type": "choropleth"
           }
          ],
          "contour": [
           {
            "colorbar": {
             "outlinewidth": 0,
             "ticks": ""
            },
            "colorscale": [
             [
              0,
              "#0d0887"
             ],
             [
              0.1111111111111111,
              "#46039f"
             ],
             [
              0.2222222222222222,
              "#7201a8"
             ],
             [
              0.3333333333333333,
              "#9c179e"
             ],
             [
              0.4444444444444444,
              "#bd3786"
             ],
             [
              0.5555555555555556,
              "#d8576b"
             ],
             [
              0.6666666666666666,
              "#ed7953"
             ],
             [
              0.7777777777777778,
              "#fb9f3a"
             ],
             [
              0.8888888888888888,
              "#fdca26"
             ],
             [
              1,
              "#f0f921"
             ]
            ],
            "type": "contour"
           }
          ],
          "contourcarpet": [
           {
            "colorbar": {
             "outlinewidth": 0,
             "ticks": ""
            },
            "type": "contourcarpet"
           }
          ],
          "heatmap": [
           {
            "colorbar": {
             "outlinewidth": 0,
             "ticks": ""
            },
            "colorscale": [
             [
              0,
              "#0d0887"
             ],
             [
              0.1111111111111111,
              "#46039f"
             ],
             [
              0.2222222222222222,
              "#7201a8"
             ],
             [
              0.3333333333333333,
              "#9c179e"
             ],
             [
              0.4444444444444444,
              "#bd3786"
             ],
             [
              0.5555555555555556,
              "#d8576b"
             ],
             [
              0.6666666666666666,
              "#ed7953"
             ],
             [
              0.7777777777777778,
              "#fb9f3a"
             ],
             [
              0.8888888888888888,
              "#fdca26"
             ],
             [
              1,
              "#f0f921"
             ]
            ],
            "type": "heatmap"
           }
          ],
          "heatmapgl": [
           {
            "colorbar": {
             "outlinewidth": 0,
             "ticks": ""
            },
            "colorscale": [
             [
              0,
              "#0d0887"
             ],
             [
              0.1111111111111111,
              "#46039f"
             ],
             [
              0.2222222222222222,
              "#7201a8"
             ],
             [
              0.3333333333333333,
              "#9c179e"
             ],
             [
              0.4444444444444444,
              "#bd3786"
             ],
             [
              0.5555555555555556,
              "#d8576b"
             ],
             [
              0.6666666666666666,
              "#ed7953"
             ],
             [
              0.7777777777777778,
              "#fb9f3a"
             ],
             [
              0.8888888888888888,
              "#fdca26"
             ],
             [
              1,
              "#f0f921"
             ]
            ],
            "type": "heatmapgl"
           }
          ],
          "histogram": [
           {
            "marker": {
             "pattern": {
              "fillmode": "overlay",
              "size": 10,
              "solidity": 0.2
             }
            },
            "type": "histogram"
           }
          ],
          "histogram2d": [
           {
            "colorbar": {
             "outlinewidth": 0,
             "ticks": ""
            },
            "colorscale": [
             [
              0,
              "#0d0887"
             ],
             [
              0.1111111111111111,
              "#46039f"
             ],
             [
              0.2222222222222222,
              "#7201a8"
             ],
             [
              0.3333333333333333,
              "#9c179e"
             ],
             [
              0.4444444444444444,
              "#bd3786"
             ],
             [
              0.5555555555555556,
              "#d8576b"
             ],
             [
              0.6666666666666666,
              "#ed7953"
             ],
             [
              0.7777777777777778,
              "#fb9f3a"
             ],
             [
              0.8888888888888888,
              "#fdca26"
             ],
             [
              1,
              "#f0f921"
             ]
            ],
            "type": "histogram2d"
           }
          ],
          "histogram2dcontour": [
           {
            "colorbar": {
             "outlinewidth": 0,
             "ticks": ""
            },
            "colorscale": [
             [
              0,
              "#0d0887"
             ],
             [
              0.1111111111111111,
              "#46039f"
             ],
             [
              0.2222222222222222,
              "#7201a8"
             ],
             [
              0.3333333333333333,
              "#9c179e"
             ],
             [
              0.4444444444444444,
              "#bd3786"
             ],
             [
              0.5555555555555556,
              "#d8576b"
             ],
             [
              0.6666666666666666,
              "#ed7953"
             ],
             [
              0.7777777777777778,
              "#fb9f3a"
             ],
             [
              0.8888888888888888,
              "#fdca26"
             ],
             [
              1,
              "#f0f921"
             ]
            ],
            "type": "histogram2dcontour"
           }
          ],
          "mesh3d": [
           {
            "colorbar": {
             "outlinewidth": 0,
             "ticks": ""
            },
            "type": "mesh3d"
           }
          ],
          "parcoords": [
           {
            "line": {
             "colorbar": {
              "outlinewidth": 0,
              "ticks": ""
             }
            },
            "type": "parcoords"
           }
          ],
          "pie": [
           {
            "automargin": true,
            "type": "pie"
           }
          ],
          "scatter": [
           {
            "fillpattern": {
             "fillmode": "overlay",
             "size": 10,
             "solidity": 0.2
            },
            "type": "scatter"
           }
          ],
          "scatter3d": [
           {
            "line": {
             "colorbar": {
              "outlinewidth": 0,
              "ticks": ""
             }
            },
            "marker": {
             "colorbar": {
              "outlinewidth": 0,
              "ticks": ""
             }
            },
            "type": "scatter3d"
           }
          ],
          "scattercarpet": [
           {
            "marker": {
             "colorbar": {
              "outlinewidth": 0,
              "ticks": ""
             }
            },
            "type": "scattercarpet"
           }
          ],
          "scattergeo": [
           {
            "marker": {
             "colorbar": {
              "outlinewidth": 0,
              "ticks": ""
             }
            },
            "type": "scattergeo"
           }
          ],
          "scattergl": [
           {
            "marker": {
             "colorbar": {
              "outlinewidth": 0,
              "ticks": ""
             }
            },
            "type": "scattergl"
           }
          ],
          "scattermapbox": [
           {
            "marker": {
             "colorbar": {
              "outlinewidth": 0,
              "ticks": ""
             }
            },
            "type": "scattermapbox"
           }
          ],
          "scatterpolar": [
           {
            "marker": {
             "colorbar": {
              "outlinewidth": 0,
              "ticks": ""
             }
            },
            "type": "scatterpolar"
           }
          ],
          "scatterpolargl": [
           {
            "marker": {
             "colorbar": {
              "outlinewidth": 0,
              "ticks": ""
             }
            },
            "type": "scatterpolargl"
           }
          ],
          "scatterternary": [
           {
            "marker": {
             "colorbar": {
              "outlinewidth": 0,
              "ticks": ""
             }
            },
            "type": "scatterternary"
           }
          ],
          "surface": [
           {
            "colorbar": {
             "outlinewidth": 0,
             "ticks": ""
            },
            "colorscale": [
             [
              0,
              "#0d0887"
             ],
             [
              0.1111111111111111,
              "#46039f"
             ],
             [
              0.2222222222222222,
              "#7201a8"
             ],
             [
              0.3333333333333333,
              "#9c179e"
             ],
             [
              0.4444444444444444,
              "#bd3786"
             ],
             [
              0.5555555555555556,
              "#d8576b"
             ],
             [
              0.6666666666666666,
              "#ed7953"
             ],
             [
              0.7777777777777778,
              "#fb9f3a"
             ],
             [
              0.8888888888888888,
              "#fdca26"
             ],
             [
              1,
              "#f0f921"
             ]
            ],
            "type": "surface"
           }
          ],
          "table": [
           {
            "cells": {
             "fill": {
              "color": "#EBF0F8"
             },
             "line": {
              "color": "white"
             }
            },
            "header": {
             "fill": {
              "color": "#C8D4E3"
             },
             "line": {
              "color": "white"
             }
            },
            "type": "table"
           }
          ]
         },
         "layout": {
          "annotationdefaults": {
           "arrowcolor": "#2a3f5f",
           "arrowhead": 0,
           "arrowwidth": 1
          },
          "autotypenumbers": "strict",
          "coloraxis": {
           "colorbar": {
            "outlinewidth": 0,
            "ticks": ""
           }
          },
          "colorscale": {
           "diverging": [
            [
             0,
             "#8e0152"
            ],
            [
             0.1,
             "#c51b7d"
            ],
            [
             0.2,
             "#de77ae"
            ],
            [
             0.3,
             "#f1b6da"
            ],
            [
             0.4,
             "#fde0ef"
            ],
            [
             0.5,
             "#f7f7f7"
            ],
            [
             0.6,
             "#e6f5d0"
            ],
            [
             0.7,
             "#b8e186"
            ],
            [
             0.8,
             "#7fbc41"
            ],
            [
             0.9,
             "#4d9221"
            ],
            [
             1,
             "#276419"
            ]
           ],
           "sequential": [
            [
             0,
             "#0d0887"
            ],
            [
             0.1111111111111111,
             "#46039f"
            ],
            [
             0.2222222222222222,
             "#7201a8"
            ],
            [
             0.3333333333333333,
             "#9c179e"
            ],
            [
             0.4444444444444444,
             "#bd3786"
            ],
            [
             0.5555555555555556,
             "#d8576b"
            ],
            [
             0.6666666666666666,
             "#ed7953"
            ],
            [
             0.7777777777777778,
             "#fb9f3a"
            ],
            [
             0.8888888888888888,
             "#fdca26"
            ],
            [
             1,
             "#f0f921"
            ]
           ],
           "sequentialminus": [
            [
             0,
             "#0d0887"
            ],
            [
             0.1111111111111111,
             "#46039f"
            ],
            [
             0.2222222222222222,
             "#7201a8"
            ],
            [
             0.3333333333333333,
             "#9c179e"
            ],
            [
             0.4444444444444444,
             "#bd3786"
            ],
            [
             0.5555555555555556,
             "#d8576b"
            ],
            [
             0.6666666666666666,
             "#ed7953"
            ],
            [
             0.7777777777777778,
             "#fb9f3a"
            ],
            [
             0.8888888888888888,
             "#fdca26"
            ],
            [
             1,
             "#f0f921"
            ]
           ]
          },
          "colorway": [
           "#636efa",
           "#EF553B",
           "#00cc96",
           "#ab63fa",
           "#FFA15A",
           "#19d3f3",
           "#FF6692",
           "#B6E880",
           "#FF97FF",
           "#FECB52"
          ],
          "font": {
           "color": "#2a3f5f"
          },
          "geo": {
           "bgcolor": "white",
           "lakecolor": "white",
           "landcolor": "#E5ECF6",
           "showlakes": true,
           "showland": true,
           "subunitcolor": "white"
          },
          "hoverlabel": {
           "align": "left"
          },
          "hovermode": "closest",
          "mapbox": {
           "style": "light"
          },
          "paper_bgcolor": "white",
          "plot_bgcolor": "#E5ECF6",
          "polar": {
           "angularaxis": {
            "gridcolor": "white",
            "linecolor": "white",
            "ticks": ""
           },
           "bgcolor": "#E5ECF6",
           "radialaxis": {
            "gridcolor": "white",
            "linecolor": "white",
            "ticks": ""
           }
          },
          "scene": {
           "xaxis": {
            "backgroundcolor": "#E5ECF6",
            "gridcolor": "white",
            "gridwidth": 2,
            "linecolor": "white",
            "showbackground": true,
            "ticks": "",
            "zerolinecolor": "white"
           },
           "yaxis": {
            "backgroundcolor": "#E5ECF6",
            "gridcolor": "white",
            "gridwidth": 2,
            "linecolor": "white",
            "showbackground": true,
            "ticks": "",
            "zerolinecolor": "white"
           },
           "zaxis": {
            "backgroundcolor": "#E5ECF6",
            "gridcolor": "white",
            "gridwidth": 2,
            "linecolor": "white",
            "showbackground": true,
            "ticks": "",
            "zerolinecolor": "white"
           }
          },
          "shapedefaults": {
           "line": {
            "color": "#2a3f5f"
           }
          },
          "ternary": {
           "aaxis": {
            "gridcolor": "white",
            "linecolor": "white",
            "ticks": ""
           },
           "baxis": {
            "gridcolor": "white",
            "linecolor": "white",
            "ticks": ""
           },
           "bgcolor": "#E5ECF6",
           "caxis": {
            "gridcolor": "white",
            "linecolor": "white",
            "ticks": ""
           }
          },
          "title": {
           "x": 0.05
          },
          "xaxis": {
           "automargin": true,
           "gridcolor": "white",
           "linecolor": "white",
           "ticks": "",
           "title": {
            "standoff": 15
           },
           "zerolinecolor": "white",
           "zerolinewidth": 2
          },
          "yaxis": {
           "automargin": true,
           "gridcolor": "white",
           "linecolor": "white",
           "ticks": "",
           "title": {
            "standoff": 15
           },
           "zerolinecolor": "white",
           "zerolinewidth": 2
          }
         }
        },
        "xaxis": {
         "anchor": "y",
         "domain": [
          0,
          1
         ]
        },
        "yaxis": {
         "anchor": "x",
         "autorange": "reversed",
         "domain": [
          0,
          1
         ]
        }
       }
      }
     },
     "metadata": {},
     "output_type": "display_data"
    }
   ],
   "source": [
    "# visuilization correlation between numerical data.\n",
    "px.imshow(store_data.corr(numeric_only=True), aspect=True, text_auto=True, color_continuous_scale='Blues')"
   ]
  },
  {
   "cell_type": "code",
   "execution_count": 33,
   "metadata": {},
   "outputs": [
    {
     "data": {
      "text/html": [
       "<div>\n",
       "<style scoped>\n",
       "    .dataframe tbody tr th:only-of-type {\n",
       "        vertical-align: middle;\n",
       "    }\n",
       "\n",
       "    .dataframe tbody tr th {\n",
       "        vertical-align: top;\n",
       "    }\n",
       "\n",
       "    .dataframe thead th {\n",
       "        text-align: right;\n",
       "    }\n",
       "</style>\n",
       "<table border=\"1\" class=\"dataframe\">\n",
       "  <thead>\n",
       "    <tr style=\"text-align: right;\">\n",
       "      <th></th>\n",
       "      <th>Order_ID</th>\n",
       "      <th>Ship_Mode</th>\n",
       "      <th>Customer_ID</th>\n",
       "      <th>Product_ID</th>\n",
       "      <th>Category</th>\n",
       "      <th>Sub_Category</th>\n",
       "      <th>Product_Name</th>\n",
       "      <th>Customer_Name</th>\n",
       "      <th>Segment</th>\n",
       "      <th>Country</th>\n",
       "      <th>City</th>\n",
       "      <th>State</th>\n",
       "      <th>Region</th>\n",
       "    </tr>\n",
       "  </thead>\n",
       "  <tbody>\n",
       "    <tr>\n",
       "      <th>count</th>\n",
       "      <td>9770</td>\n",
       "      <td>9770</td>\n",
       "      <td>9770</td>\n",
       "      <td>9770</td>\n",
       "      <td>9770</td>\n",
       "      <td>9770</td>\n",
       "      <td>9770</td>\n",
       "      <td>9770</td>\n",
       "      <td>9770</td>\n",
       "      <td>9770</td>\n",
       "      <td>9770</td>\n",
       "      <td>9770</td>\n",
       "      <td>9770</td>\n",
       "    </tr>\n",
       "    <tr>\n",
       "      <th>unique</th>\n",
       "      <td>4912</td>\n",
       "      <td>4</td>\n",
       "      <td>793</td>\n",
       "      <td>1861</td>\n",
       "      <td>3</td>\n",
       "      <td>17</td>\n",
       "      <td>1817</td>\n",
       "      <td>793</td>\n",
       "      <td>3</td>\n",
       "      <td>1</td>\n",
       "      <td>252</td>\n",
       "      <td>41</td>\n",
       "      <td>4</td>\n",
       "    </tr>\n",
       "    <tr>\n",
       "      <th>top</th>\n",
       "      <td>CA-2018-100111</td>\n",
       "      <td>Standard Class</td>\n",
       "      <td>WB/21850</td>\n",
       "      <td>OFF-PA-10001970</td>\n",
       "      <td>Office Supplies</td>\n",
       "      <td>Binders</td>\n",
       "      <td>Staple envelope</td>\n",
       "      <td>William Brown</td>\n",
       "      <td>Consumer</td>\n",
       "      <td>United States</td>\n",
       "      <td>New York City</td>\n",
       "      <td>California</td>\n",
       "      <td>West</td>\n",
       "    </tr>\n",
       "    <tr>\n",
       "      <th>freq</th>\n",
       "      <td>14</td>\n",
       "      <td>5841</td>\n",
       "      <td>35</td>\n",
       "      <td>19</td>\n",
       "      <td>5880</td>\n",
       "      <td>1468</td>\n",
       "      <td>47</td>\n",
       "      <td>35</td>\n",
       "      <td>5084</td>\n",
       "      <td>9770</td>\n",
       "      <td>831</td>\n",
       "      <td>1931</td>\n",
       "      <td>3147</td>\n",
       "    </tr>\n",
       "  </tbody>\n",
       "</table>\n",
       "</div>"
      ],
      "text/plain": [
       "              Order_ID       Ship_Mode Customer_ID       Product_ID  \\\n",
       "count             9770            9770        9770             9770   \n",
       "unique            4912               4         793             1861   \n",
       "top     CA-2018-100111  Standard Class    WB/21850  OFF-PA-10001970   \n",
       "freq                14            5841          35               19   \n",
       "\n",
       "               Category Sub_Category     Product_Name  Customer_Name  \\\n",
       "count              9770         9770             9770           9770   \n",
       "unique                3           17             1817            793   \n",
       "top     Office Supplies      Binders  Staple envelope  William Brown   \n",
       "freq               5880         1468               47             35   \n",
       "\n",
       "         Segment        Country           City       State Region  \n",
       "count       9770           9770           9770        9770   9770  \n",
       "unique         3              1            252          41      4  \n",
       "top     Consumer  United States  New York City  California   West  \n",
       "freq        5084           9770            831        1931   3147  "
      ]
     },
     "execution_count": 33,
     "metadata": {},
     "output_type": "execute_result"
    }
   ],
   "source": [
    "# describe about categorical columns.\n",
    "store_data.describe(include='object',datetime_is_numeric=True).round(2)"
   ]
  },
  {
   "cell_type": "code",
   "execution_count": 34,
   "metadata": {},
   "outputs": [
    {
     "data": {
      "text/html": [
       "<div>\n",
       "<style scoped>\n",
       "    .dataframe tbody tr th:only-of-type {\n",
       "        vertical-align: middle;\n",
       "    }\n",
       "\n",
       "    .dataframe tbody tr th {\n",
       "        vertical-align: top;\n",
       "    }\n",
       "\n",
       "    .dataframe thead th {\n",
       "        text-align: right;\n",
       "    }\n",
       "</style>\n",
       "<table border=\"1\" class=\"dataframe\">\n",
       "  <thead>\n",
       "    <tr style=\"text-align: right;\">\n",
       "      <th></th>\n",
       "      <th>Order_Date</th>\n",
       "      <th>Ship_Date</th>\n",
       "      <th>Sales</th>\n",
       "      <th>Discount</th>\n",
       "      <th>Postal_Code</th>\n",
       "      <th>Age</th>\n",
       "    </tr>\n",
       "  </thead>\n",
       "  <tbody>\n",
       "    <tr>\n",
       "      <th>count</th>\n",
       "      <td>9770</td>\n",
       "      <td>9770</td>\n",
       "      <td>9.770000e+03</td>\n",
       "      <td>9770.00</td>\n",
       "      <td>9770.00</td>\n",
       "      <td>9770.00</td>\n",
       "    </tr>\n",
       "    <tr>\n",
       "      <th>mean</th>\n",
       "      <td>2017-05-01 11:43:03.009211904</td>\n",
       "      <td>2017-05-05 10:47:37.891504640</td>\n",
       "      <td>3.472114e+06</td>\n",
       "      <td>0.02</td>\n",
       "      <td>55241.08</td>\n",
       "      <td>34.00</td>\n",
       "    </tr>\n",
       "    <tr>\n",
       "      <th>min</th>\n",
       "      <td>2015-01-03 00:00:00</td>\n",
       "      <td>2015-01-07 00:00:00</td>\n",
       "      <td>2.112000e+04</td>\n",
       "      <td>0.01</td>\n",
       "      <td>1841.00</td>\n",
       "      <td>19.00</td>\n",
       "    </tr>\n",
       "    <tr>\n",
       "      <th>25%</th>\n",
       "      <td>2016-05-25 00:00:00</td>\n",
       "      <td>2016-05-28 00:00:00</td>\n",
       "      <td>2.619000e+05</td>\n",
       "      <td>0.01</td>\n",
       "      <td>27360.00</td>\n",
       "      <td>26.00</td>\n",
       "    </tr>\n",
       "    <tr>\n",
       "      <th>50%</th>\n",
       "      <td>2017-06-26 00:00:00</td>\n",
       "      <td>2017-06-30 00:00:00</td>\n",
       "      <td>8.236500e+05</td>\n",
       "      <td>0.02</td>\n",
       "      <td>55901.00</td>\n",
       "      <td>34.00</td>\n",
       "    </tr>\n",
       "    <tr>\n",
       "      <th>75%</th>\n",
       "      <td>2018-05-15 00:00:00</td>\n",
       "      <td>2018-05-19 00:00:00</td>\n",
       "      <td>3.167520e+06</td>\n",
       "      <td>0.03</td>\n",
       "      <td>89115.00</td>\n",
       "      <td>42.00</td>\n",
       "    </tr>\n",
       "    <tr>\n",
       "      <th>max</th>\n",
       "      <td>2018-12-30 00:00:00</td>\n",
       "      <td>2019-01-05 00:00:00</td>\n",
       "      <td>3.395772e+08</td>\n",
       "      <td>0.03</td>\n",
       "      <td>99207.00</td>\n",
       "      <td>48.00</td>\n",
       "    </tr>\n",
       "    <tr>\n",
       "      <th>std</th>\n",
       "      <td>NaN</td>\n",
       "      <td>NaN</td>\n",
       "      <td>9.412259e+06</td>\n",
       "      <td>0.01</td>\n",
       "      <td>31460.73</td>\n",
       "      <td>8.71</td>\n",
       "    </tr>\n",
       "  </tbody>\n",
       "</table>\n",
       "</div>"
      ],
      "text/plain": [
       "                          Order_Date                      Ship_Date  \\\n",
       "count                           9770                           9770   \n",
       "mean   2017-05-01 11:43:03.009211904  2017-05-05 10:47:37.891504640   \n",
       "min              2015-01-03 00:00:00            2015-01-07 00:00:00   \n",
       "25%              2016-05-25 00:00:00            2016-05-28 00:00:00   \n",
       "50%              2017-06-26 00:00:00            2017-06-30 00:00:00   \n",
       "75%              2018-05-15 00:00:00            2018-05-19 00:00:00   \n",
       "max              2018-12-30 00:00:00            2019-01-05 00:00:00   \n",
       "std                              NaN                            NaN   \n",
       "\n",
       "              Sales  Discount  Postal_Code      Age  \n",
       "count  9.770000e+03   9770.00      9770.00  9770.00  \n",
       "mean   3.472114e+06      0.02     55241.08    34.00  \n",
       "min    2.112000e+04      0.01      1841.00    19.00  \n",
       "25%    2.619000e+05      0.01     27360.00    26.00  \n",
       "50%    8.236500e+05      0.02     55901.00    34.00  \n",
       "75%    3.167520e+06      0.03     89115.00    42.00  \n",
       "max    3.395772e+08      0.03     99207.00    48.00  \n",
       "std    9.412259e+06      0.01     31460.73     8.71  "
      ]
     },
     "execution_count": 34,
     "metadata": {},
     "output_type": "execute_result"
    }
   ],
   "source": [
    "# describe about numerical columns.\n",
    "store_data.describe(exclude='object',datetime_is_numeric=True).round(2)"
   ]
  },
  {
   "cell_type": "code",
   "execution_count": 38,
   "metadata": {},
   "outputs": [
    {
     "data": {
      "text/plain": [
       "<seaborn.axisgrid.PairGrid at 0x25e842b6290>"
      ]
     },
     "execution_count": 38,
     "metadata": {},
     "output_type": "execute_result"
    },
    {
     "data": {
      "image/png": "[encoded data removed]",
      "text/plain": [
       "<Figure size 1000x1000 with 20 Axes>"
      ]
     },
     "metadata": {},
     "output_type": "display_data"
    }
   ],
   "source": [
    "# visuilization the correlations between numerical data.\n",
    "sns.pairplot(data=store_data, aspect=True, kind='scatter')"
   ]
  },
  {
   "cell_type": "code",
   "execution_count": 39,
   "metadata": {},
   "outputs": [
    {
     "data": {
      "text/plain": [
       "Order_ID         4912\n",
       "Ship_Mode           4\n",
       "Customer_ID       793\n",
       "Product_ID       1861\n",
       "Category            3\n",
       "Sub_Category       17\n",
       "Product_Name     1817\n",
       "Customer_Name     793\n",
       "Segment             3\n",
       "Country             1\n",
       "City              252\n",
       "State              41\n",
       "Region              4\n",
       "dtype: int64"
      ]
     },
     "execution_count": 39,
     "metadata": {},
     "output_type": "execute_result"
    }
   ],
   "source": [
    "# find how many categorical class in each categorical column.\n",
    "store_data.select_dtypes(include='object').nunique()"
   ]
  },
  {
   "cell_type": "code",
   "execution_count": 41,
   "metadata": {},
   "outputs": [
    {
     "data": {
      "text/plain": [
       "array(['Consumer', 'Corporate', 'Home Office'], dtype=object)"
      ]
     },
     "execution_count": 41,
     "metadata": {},
     "output_type": "execute_result"
    }
   ],
   "source": [
    "# find the unique values in 'Segment' column.\n",
    "store_data['Segment'].unique()"
   ]
  },
  {
   "cell_type": "code",
   "execution_count": 43,
   "metadata": {},
   "outputs": [
    {
     "data": {
      "text/plain": [
       "Consumer       5084\n",
       "Corporate      2941\n",
       "Home Office    1745\n",
       "Name: Segment, dtype: int64"
      ]
     },
     "execution_count": 43,
     "metadata": {},
     "output_type": "execute_result"
    }
   ],
   "source": [
    "# find the count of each value in 'Segment' column and sort it by DESC way.\n",
    "store_data['Segment'].value_counts().sort_values(ascending=False)"
   ]
  },
  {
   "cell_type": "code",
   "execution_count": 59,
   "metadata": {},
   "outputs": [
    {
     "data": {
      "text/plain": [
       "<Axes: title={'center': 'the count of each value in Segment'}, xlabel='count', ylabel='Segment'>"
      ]
     },
     "execution_count": 59,
     "metadata": {},
     "output_type": "execute_result"
    },
    {
     "data": {
      "image/png": "[encoded data removed]",
      "text/plain": [
       "<Figure size 640x480 with 1 Axes>"
      ]
     },
     "metadata": {},
     "output_type": "display_data"
    }
   ],
   "source": [
    "# visuilization of the count of each value in 'Segment' column.\n",
    "store_data['Segment'].value_counts().sort_values(ascending=False).plot(kind='barh', grid=True, title='the count of each value in Segment', xlabel='count', ylabel='Segment')"
   ]
  },
  {
   "cell_type": "code",
   "execution_count": 45,
   "metadata": {},
   "outputs": [
    {
     "data": {
      "text/plain": [
       "array(['South', 'Central', 'East', 'West'], dtype=object)"
      ]
     },
     "execution_count": 45,
     "metadata": {},
     "output_type": "execute_result"
    }
   ],
   "source": [
    "# find the unique values in 'Region' column.\n",
    "store_data['Region'].unique()"
   ]
  },
  {
   "cell_type": "code",
   "execution_count": 46,
   "metadata": {},
   "outputs": [
    {
     "data": {
      "text/plain": [
       "West       3147\n",
       "East       2703\n",
       "Central    2327\n",
       "South      1593\n",
       "Name: Region, dtype: int64"
      ]
     },
     "execution_count": 46,
     "metadata": {},
     "output_type": "execute_result"
    }
   ],
   "source": [
    "# find the count of each value in 'Region' column and sort it by DESC way.\n",
    "store_data['Region'].value_counts().sort_values(ascending=False)"
   ]
  },
  {
   "cell_type": "code",
   "execution_count": 58,
   "metadata": {},
   "outputs": [
    {
     "data": {
      "text/plain": [
       "<Axes: title={'center': 'the count of each value in Region'}, xlabel='count', ylabel='Region'>"
      ]
     },
     "execution_count": 58,
     "metadata": {},
     "output_type": "execute_result"
    },
    {
     "data": {
      "image/png": "[encoded data removed]",
      "text/plain": [
       "<Figure size 640x480 with 1 Axes>"
      ]
     },
     "metadata": {},
     "output_type": "display_data"
    }
   ],
   "source": [
    "# visuilization of the count of each value in 'Region' column.\n",
    "store_data['Region'].value_counts().sort_values(ascending=False).plot(kind='barh', grid=True, title='the count of each value in Region', xlabel='count', ylabel='Region')"
   ]
  },
  {
   "cell_type": "code",
   "execution_count": 48,
   "metadata": {},
   "outputs": [
    {
     "data": {
      "text/plain": [
       "array(['Henderson', 'Indianapolis', 'Dover', 'Tucson', 'Franklin',\n",
       "       'Chester', 'Pasadena', 'Lafayette', 'Houston', 'Los Angeles',\n",
       "       'Manteca', 'Lawrence', 'Chicago', 'Charlotte', 'New York City',\n",
       "       'Gastonia', 'Hoover', 'Jacksonville', 'Montgomery',\n",
       "       'Fort Lauderdale', 'Orem', 'Dallas', 'Perth Amboy', 'Roseville',\n",
       "       'Seattle', 'San Diego', 'Greenville', 'Philadelphia', 'Louisville',\n",
       "       'San Francisco', 'Florence', 'Richmond', 'Marysville',\n",
       "       'Naperville', 'Monroe', 'Pico Rivera', 'Wilmington', 'Des Moines',\n",
       "       'Arlington', 'Lorain', 'Tamarac', 'Minneapolis', 'Decatur',\n",
       "       'Bowling Green', 'Hackensack', 'Redlands', 'Hialeah', 'Akron',\n",
       "       'Phoenix', 'Oakland', 'Bridgeton', 'Waynesboro', 'Rochester',\n",
       "       'Concord', 'Santa Clara', 'Carrollton', 'Highland Park',\n",
       "       'Fort Worth', 'Trenton', 'Columbus', 'Providence', 'New Rochelle',\n",
       "       'Plano', 'Asheville', 'Manchester', 'Madison', 'Burlington',\n",
       "       'West Jordan', 'Kenosha', 'Palm Coast', 'Detroit', 'Urbandale',\n",
       "       'Austin', 'Clarksville', 'Omaha', 'Fremont', 'Fresno',\n",
       "       'Huntsville', 'Oceanside', 'Grand Prairie', 'Roswell',\n",
       "       'Broomfield', 'Fayetteville', 'Newark', 'Aurora', 'Gilbert',\n",
       "       'Saint Paul', 'Cincinnati', 'Milwaukee', 'Bloomington',\n",
       "       'Grove City', 'Olathe', 'Jackson', 'Hamilton', 'Denver',\n",
       "       'Dearborn', 'Escondido', 'Springfield', 'Salem', 'La Porte',\n",
       "       'Auburn', 'Lowell', 'Mcallen', 'Richardson', 'Vineland', 'Conroe',\n",
       "       'Everett', 'Independence', 'Fairfield', 'Park Ridge', 'Watertown',\n",
       "       'Melbourne', 'Eagan', 'Long Beach', 'Murray', 'San Jose',\n",
       "       'Glendale', 'Salinas', 'Westland', 'Toledo', 'Troy', 'Edmond',\n",
       "       'New Albany', 'Greensboro', 'Bossier City', 'Smyrna',\n",
       "       'San Antonio', 'Medina', 'Saginaw', 'Warwick', 'Marion', 'Spokane',\n",
       "       'Fort Collins', 'Lincoln Park', 'Memphis', 'New Brunswick',\n",
       "       'Columbia', 'Gladstone', 'Carlsbad', 'Warner Robins', 'Durham',\n",
       "       'Miami', 'Lakewood', 'Taylor', 'Peoria', 'Washington',\n",
       "       'Colorado Springs', 'Whittier', 'Dublin', 'Costa Mesa',\n",
       "       'Pembroke Pines', 'College Station', 'Albuquerque', 'Lake Charles',\n",
       "       'Sioux Falls', 'Saint Louis', 'Orland Park', 'Elmhurst',\n",
       "       'Hesperia', 'Tampa', 'Laguna Niguel', 'Portland', 'Norwich',\n",
       "       'Las Cruces', 'Baltimore', 'Olympia', 'Huntington Beach',\n",
       "       'Riverside', 'Mesa', 'Quincy', 'La Quinta', 'Murfreesboro',\n",
       "       'Scottsdale', 'Stockton', 'Oklahoma City', 'Bristol',\n",
       "       'Saint Peters', 'Cleveland', 'Brentwood', 'Green Bay', 'Lakeville',\n",
       "       'Mission Viejo', 'Grapevine', 'Evanston', 'El Paso', 'Clinton',\n",
       "       'Daytona Beach', 'Charlottesville', 'Rochester Hills', 'Irving',\n",
       "       'Kent', 'Lancaster', 'Chapel Hill', 'Coppell', 'Linden', 'Suffolk',\n",
       "       'Vancouver', 'Mount Vernon', 'Gulfport', 'Lansing', 'Westfield',\n",
       "       'Middletown', 'Saint Petersburg', 'Pueblo', 'Boynton Beach',\n",
       "       'Laredo', 'Allen', 'Mobile', 'Round Rock', 'Amarillo', 'Encinitas',\n",
       "       'Apple Valley', 'Jamestown', 'Lindenhurst', 'Deltona', 'Buffalo',\n",
       "       'Atlanta', 'Skokie', 'Tigard', 'Inglewood', 'Belleville',\n",
       "       'Vallejo', 'Raleigh', 'Arvada', 'Lakeland', 'Macon', 'Harlingen',\n",
       "       'Salt Lake City', 'Mesquite', 'Las Vegas', 'Ontario', 'Murrieta',\n",
       "       'Mishawaka', 'Cranston', 'Cottage Grove', 'Parker',\n",
       "       'Virginia Beach', 'Cary', 'Tallahassee', 'Lake Elsinore',\n",
       "       'Brownsville', 'Arlington Heights', 'Rockford', 'North Las Vegas',\n",
       "       'Tyler', 'Parma', 'Littleton', 'Lehi', 'Niagara Falls',\n",
       "       'Santa Ana', 'Thomasville', 'Tulsa'], dtype=object)"
      ]
     },
     "execution_count": 48,
     "metadata": {},
     "output_type": "execute_result"
    }
   ],
   "source": [
    "# find the unique values in 'City' column.\n",
    "store_data['City'].unique()"
   ]
  },
  {
   "cell_type": "code",
   "execution_count": 49,
   "metadata": {},
   "outputs": [
    {
     "data": {
      "text/plain": [
       "New York City    831\n",
       "Los Angeles      700\n",
       "Philadelphia     575\n",
       "San Francisco    454\n",
       "Seattle          379\n",
       "Houston          375\n",
       "Chicago          302\n",
       "Columbus         230\n",
       "Aurora           164\n",
       "Dallas           160\n",
       "Name: City, dtype: int64"
      ]
     },
     "execution_count": 49,
     "metadata": {},
     "output_type": "execute_result"
    }
   ],
   "source": [
    "# find the count of the top 10 value in 'City' column and sort it by DESC way.\n",
    "store_data['City'].value_counts().sort_values(ascending=False).head(10)"
   ]
  },
  {
   "cell_type": "code",
   "execution_count": 60,
   "metadata": {},
   "outputs": [
    {
     "data": {
      "text/plain": [
       "<Axes: title={'center': 'the count of the top 10 value in City'}, xlabel='count', ylabel='City'>"
      ]
     },
     "execution_count": 60,
     "metadata": {},
     "output_type": "execute_result"
    },
    {
     "data": {
      "image/png": "[encoded data removed]",
      "text/plain": [
       "<Figure size 640x480 with 1 Axes>"
      ]
     },
     "metadata": {},
     "output_type": "display_data"
    }
   ],
   "source": [
    "# visuilization the count of the top 10 value in 'City' column.\n",
    "store_data['City'].value_counts().sort_values(ascending=False).head(10).plot(kind='barh', grid=True, title='the count of the top 10 value in City', xlabel='count', ylabel='City')"
   ]
  },
  {
   "cell_type": "code",
   "execution_count": 51,
   "metadata": {},
   "outputs": [
    {
     "data": {
      "text/plain": [
       "Saint Peters         4\n",
       "Lehi                 4\n",
       "Tallahassee          3\n",
       "Round Rock           3\n",
       "Middletown           3\n",
       "Richardson           3\n",
       "Escondido            3\n",
       "Lakeland             2\n",
       "Tulsa                2\n",
       "Arlington Heights    1\n",
       "Name: City, dtype: int64"
      ]
     },
     "execution_count": 51,
     "metadata": {},
     "output_type": "execute_result"
    }
   ],
   "source": [
    "# find the count of the last 10 value in 'City' column and sort it by DESC way.\n",
    "store_data['City'].value_counts().sort_values(ascending=False).tail(10)"
   ]
  },
  {
   "cell_type": "code",
   "execution_count": 61,
   "metadata": {},
   "outputs": [
    {
     "data": {
      "text/plain": [
       "<Axes: title={'center': 'the count of the last 10 value in City'}, xlabel='count', ylabel='City'>"
      ]
     },
     "execution_count": 61,
     "metadata": {},
     "output_type": "execute_result"
    },
    {
     "data": {
      "image/png": "[encoded data removed]",
      "text/plain": [
       "<Figure size 640x480 with 1 Axes>"
      ]
     },
     "metadata": {},
     "output_type": "display_data"
    }
   ],
   "source": [
    "# visuilization the count of the last 10 value in 'City' column.\n",
    "store_data['City'].value_counts().sort_values(ascending=False).tail(10).plot(kind='barh', grid=True, title='the count of the last 10 value in City', xlabel='count', ylabel='City')"
   ]
  },
  {
   "cell_type": "code",
   "execution_count": 53,
   "metadata": {},
   "outputs": [
    {
     "data": {
      "text/plain": [
       "array(['Kentucky', 'Indiana', 'Delaware', 'Arizona', 'Wisconsin',\n",
       "       'Pennsylvania', 'Texas', 'Louisiana', 'California',\n",
       "       'Massachusetts', 'Illinois', 'North Carolina', 'New York',\n",
       "       'Alabama', 'Florida', 'Utah', 'New Jersey', 'Tennessee',\n",
       "       'Washington', 'Iowa', 'Virginia', 'Ohio', 'Minnesota', 'Michigan',\n",
       "       'Georgia', 'Rhode Island', 'Connecticut', 'Nebraska', 'Colorado',\n",
       "       'Arkansas', 'Kansas', 'Oregon', 'Missouri', 'Mississippi',\n",
       "       'Oklahoma', 'Maryland', 'New Mexico', 'District of Columbia',\n",
       "       'South Dakota', 'New Hampshire', 'Nevada'], dtype=object)"
      ]
     },
     "execution_count": 53,
     "metadata": {},
     "output_type": "execute_result"
    }
   ],
   "source": [
    "# find the unique values in 'State' column.\n",
    "store_data['State'].unique()"
   ]
  },
  {
   "cell_type": "code",
   "execution_count": 55,
   "metadata": {},
   "outputs": [
    {
     "data": {
      "text/plain": [
       "California        1931\n",
       "New York          1083\n",
       "Texas              903\n",
       "Pennsylvania       631\n",
       "Illinois           563\n",
       "Ohio               465\n",
       "Washington         453\n",
       "North Carolina     333\n",
       "Arizona            295\n",
       "Florida            285\n",
       "Name: State, dtype: int64"
      ]
     },
     "execution_count": 55,
     "metadata": {},
     "output_type": "execute_result"
    }
   ],
   "source": [
    "# find count of the top 10 values in 'State' column. \n",
    "store_data['State'].value_counts().sort_values(ascending=False).head(10)"
   ]
  },
  {
   "cell_type": "code",
   "execution_count": 64,
   "metadata": {},
   "outputs": [
    {
     "data": {
      "text/plain": [
       "<Axes: title={'center': 'the count of the top 10 State'}, xlabel='count', ylabel='State'>"
      ]
     },
     "execution_count": 64,
     "metadata": {},
     "output_type": "execute_result"
    },
    {
     "data": {
      "image/png": "[encoded data removed]",
      "text/plain": [
       "<Figure size 640x480 with 1 Axes>"
      ]
     },
     "metadata": {},
     "output_type": "display_data"
    }
   ],
   "source": [
    "# visuilization of the top 10 values in 'State' column.\n",
    "store_data['State'].value_counts().sort_values(ascending=False).head(10).plot(kind='barh', grid=True, title='the count of the top 10 State', xlabel='count', ylabel='State')"
   ]
  },
  {
   "cell_type": "code",
   "execution_count": 133,
   "metadata": {},
   "outputs": [
    {
     "data": {
      "text/plain": [
       "42    414\n",
       "46    406\n",
       "33    403\n",
       "20    400\n",
       "25    396\n",
       "35    390\n",
       "34    389\n",
       "23    373\n",
       "48    365\n",
       "45    358\n",
       "Name: Age, dtype: int64"
      ]
     },
     "execution_count": 133,
     "metadata": {},
     "output_type": "execute_result"
    }
   ],
   "source": [
    "store_data['Age'].value_counts().sort_values(ascending=False).head(10)"
   ]
  },
  {
   "cell_type": "code",
   "execution_count": 135,
   "metadata": {},
   "outputs": [
    {
     "data": {
      "text/plain": [
       "<Axes: title={'center': 'the top 10 Age'}, xlabel='count', ylabel='Age'>"
      ]
     },
     "execution_count": 135,
     "metadata": {},
     "output_type": "execute_result"
    },
    {
     "data": {
      "image/png": "[encoded data removed]",
      "text/plain": [
       "<Figure size 640x480 with 1 Axes>"
      ]
     },
     "metadata": {},
     "output_type": "display_data"
    }
   ],
   "source": [
    "store_data['Age'].value_counts().sort_values(ascending=False).head(10).plot(kind='barh', grid=True, title='the top 10 Age', xlabel='count', ylabel='Age')"
   ]
  },
  {
   "cell_type": "code",
   "execution_count": 136,
   "metadata": {},
   "outputs": [
    {
     "data": {
      "text/plain": [
       "41    292\n",
       "30    288\n",
       "21    284\n",
       "31    266\n",
       "24    261\n",
       "32    256\n",
       "22    246\n",
       "19    241\n",
       "27    239\n",
       "37    200\n",
       "Name: Age, dtype: int64"
      ]
     },
     "execution_count": 136,
     "metadata": {},
     "output_type": "execute_result"
    }
   ],
   "source": [
    "store_data['Age'].value_counts().sort_values(ascending=False).tail(10)"
   ]
  },
  {
   "cell_type": "code",
   "execution_count": 137,
   "metadata": {},
   "outputs": [
    {
     "data": {
      "text/plain": [
       "<Axes: title={'center': 'the last 10 Age'}, xlabel='count', ylabel='Age'>"
      ]
     },
     "execution_count": 137,
     "metadata": {},
     "output_type": "execute_result"
    },
    {
     "data": {
      "image/png": "[encoded data removed]",
      "text/plain": [
       "<Figure size 640x480 with 1 Axes>"
      ]
     },
     "metadata": {},
     "output_type": "display_data"
    }
   ],
   "source": [
    "store_data['Age'].value_counts().sort_values(ascending=False).tail(10).plot(kind='barh', grid=True, title='the last 10 Age', xlabel='count', ylabel='Age')"
   ]
  }
 ],
 "metadata": {
  "kernelspec": {
   "display_name": "base",
   "language": "python",
   "name": "python3"
  },
  "language_info": {
   "codemirror_mode": {
    "name": "ipython",
    "version": 3
   },
   "file_extension": ".py",
   "mimetype": "text/x-python",
   "name": "python",
   "nbconvert_exporter": "python",
   "pygments_lexer": "ipython3",
   "version": "3.11.3"
  },
  "orig_nbformat": 4
 },
 "nbformat": 4,
 "nbformat_minor": 2
}
